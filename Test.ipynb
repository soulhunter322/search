{
 "cells": [
  {
   "cell_type": "code",
   "execution_count": 2,
   "metadata": {},
   "outputs": [],
   "source": [
    "import numpy as np\n",
    "from collections import namedtuple"
   ]
  },
  {
   "cell_type": "markdown",
   "metadata": {},
   "source": [
    "## GREEDY BEST-FIRST SEARCH"
   ]
  },
  {
   "cell_type": "code",
   "execution_count": 70,
   "metadata": {},
   "outputs": [],
   "source": [
    "h = np.array([20, 30, 5, 10, 0])"
   ]
  },
  {
   "cell_type": "code",
   "execution_count": 78,
   "metadata": {},
   "outputs": [
    {
     "name": "stdout",
     "output_type": "stream",
     "text": [
      "0 2\n",
      "0 3\n",
      "1 4\n",
      "2 1\n",
      "3 2\n",
      "3 4\n"
     ]
    },
    {
     "data": {
      "text/plain": [
       "[[[2, 0], [3, 0]], [[4, 0]], [[1, 0]], [[2, 0], [4, 0]], []]"
      ]
     },
     "execution_count": 78,
     "metadata": {},
     "output_type": "execute_result"
    }
   ],
   "source": [
    "adj_list = [[] for _ in range (5)]\n",
    "for i in range(6):\n",
    "    u, v = map(int, input().split())\n",
    "    adj_list[u].append([v, 0])\n",
    "adj_list"
   ]
  },
  {
   "cell_type": "code",
   "execution_count": 79,
   "metadata": {},
   "outputs": [],
   "source": [
    "import heapq"
   ]
  },
  {
   "cell_type": "code",
   "execution_count": 80,
   "metadata": {},
   "outputs": [],
   "source": [
    "l = []\n",
    "l.append([0, h[0]])\n",
    "dx = [True for _ in range(5)]"
   ]
  },
  {
   "cell_type": "code",
   "execution_count": 81,
   "metadata": {},
   "outputs": [
    {
     "name": "stdout",
     "output_type": "stream",
     "text": [
      "0\n",
      "0   2   5\n",
      "0   3   10\n",
      "[[3, 10], [2, 5]]\n",
      "2\n",
      "2   1   30\n",
      "[[1, 30], [3, 10]]\n",
      "3\n",
      "3   4   0\n",
      "[[1, 30], [4, 0]]\n",
      "4\n"
     ]
    },
    {
     "data": {
      "text/plain": [
       "3"
      ]
     },
     "execution_count": 81,
     "metadata": {},
     "output_type": "execute_result"
    }
   ],
   "source": [
    "tra = [-1 for _ in range(5)]\n",
    "while True :\n",
    "    if len(l) == 0:\n",
    "        print(\"Khong tim duoc\")\n",
    "        break;\n",
    "    u, w = l.pop()\n",
    "    print(u)\n",
    "    if u == 4 :\n",
    "        break;\n",
    "    for iedge in adj_list[u]:\n",
    "        if dx[iedge[0]] == True :\n",
    "            l.append([iedge[0], h[iedge[0]]])\n",
    "            tra[iedge[0]] = u\n",
    "            dx[iedge[0]] = False\n",
    "            print(u, \" \" , iedge[0], \" \", h[iedge[0]])\n",
    "    l.sort( key=lambda l:l[1], reverse=True)\n",
    "    print(l)\n",
    "tra[4]"
   ]
  },
  {
   "cell_type": "markdown",
   "metadata": {},
   "source": [
    "## BEAM SEARCH"
   ]
  },
  {
   "cell_type": "markdown",
   "metadata": {},
   "source": [
    "Tương tự Greedy Best-First Search nhưng sau khi duyệt đỉnh u thêm các đỉnh kề u chưa được xét vào L, sort L sau đó sẽ bỏ các phần tử trong L chỉ giữ lại trong L k phần tử có H[i] nhỏ nhất."
   ]
  },
  {
   "cell_type": "markdown",
   "metadata": {},
   "source": [
    "## HILL - CLIMBING SEARCH"
   ]
  },
  {
   "cell_type": "code",
   "execution_count": 86,
   "metadata": {},
   "outputs": [
    {
     "data": {
      "text/plain": [
       "[[[3, 10], [2, 5]], [[4, 0]], [[1, 30]], [[2, 5], [4, 0]], []]"
      ]
     },
     "execution_count": 86,
     "metadata": {},
     "output_type": "execute_result"
    }
   ],
   "source": [
    "adj_list_dfs = list(adj_list)\n",
    "for i in range(len(adj_list_dfs)):\n",
    "    v = []\n",
    "    for iedge in adj_list_dfs[i] :\n",
    "        v.append([iedge[0], h[iedge[0]]])\n",
    "    v.sort(key=lambda v:v[1], reverse=True)\n",
    "    adj_list_dfs[i] = v\n",
    "adj_list_dfs"
   ]
  },
  {
   "cell_type": "code",
   "execution_count": 88,
   "metadata": {},
   "outputs": [
    {
     "data": {
      "text/plain": [
       "[True, True, True, True, True]"
      ]
     },
     "execution_count": 88,
     "metadata": {},
     "output_type": "execute_result"
    }
   ],
   "source": [
    "l = []\n",
    "l.append([0, h[0]])\n",
    "dx = [True for _ in range(5)]\n",
    "dx"
   ]
  },
  {
   "cell_type": "code",
   "execution_count": 89,
   "metadata": {},
   "outputs": [
    {
     "name": "stdout",
     "output_type": "stream",
     "text": [
      "0\n",
      "0   3   10\n",
      "0   2   5\n",
      "2\n",
      "2   1   30\n",
      "1\n",
      "1   4   0\n",
      "4\n"
     ]
    },
    {
     "data": {
      "text/plain": [
       "1"
      ]
     },
     "execution_count": 89,
     "metadata": {},
     "output_type": "execute_result"
    }
   ],
   "source": [
    "tra = [-1 for _ in range(5)]\n",
    "while True :\n",
    "    if len(l) == 0:\n",
    "        print(\"Khong tim duoc\")\n",
    "        break;\n",
    "    u, w = l.pop()\n",
    "    print(u)\n",
    "    if u == 4 :\n",
    "        break;\n",
    "    for iedge in adj_list_dfs[u]:\n",
    "        if dx[iedge[0]] == True :\n",
    "            l.append([iedge[0], h[iedge[0]]])\n",
    "            tra[iedge[0]] = u\n",
    "            dx[iedge[0]] = False\n",
    "            print(u, \" \" , iedge[0], \" \", h[iedge[0]])\n",
    "tra[4]"
   ]
  },
  {
   "cell_type": "markdown",
   "metadata": {},
   "source": [
    "\n",
    "## A* SEARCH"
   ]
  },
  {
   "cell_type": "code",
   "execution_count": 6,
   "metadata": {},
   "outputs": [
    {
     "name": "stdout",
     "output_type": "stream",
     "text": [
      "0 1 6\n",
      "0 2 5\n",
      "0 3 10\n",
      "1 5 6\n",
      "2 5 6\n",
      "2 4 7\n",
      "3 4 6\n",
      "5 6 4\n",
      "4 6 6\n",
      "6 7 3\n"
     ]
    },
    {
     "data": {
      "text/plain": [
       "[[[1, 6], [2, 5], [3, 10]],\n",
       " [[0, 6], [5, 6]],\n",
       " [[0, 5], [5, 6], [4, 7]],\n",
       " [[0, 10], [4, 6]],\n",
       " [[2, 7], [3, 6], [6, 6]],\n",
       " [[1, 6], [2, 6], [6, 4]],\n",
       " [[5, 4], [4, 6], [7, 3]],\n",
       " [[6, 3]]]"
      ]
     },
     "execution_count": 6,
     "metadata": {},
     "output_type": "execute_result"
    }
   ],
   "source": [
    "import heapdict\n",
    "h = np.array([17, 10, 13, 4, 4, 2, 1, 0])\n",
    "adj_list = [[] for _ in range (8)]\n",
    "for i in range(10):\n",
    "    u, v, w = map(int, input().split())\n",
    "    adj_list[u].append([v, w])\n",
    "    adj_list[v].append([u, w])\n",
    "\n",
    "adj_list"
   ]
  },
  {
   "cell_type": "code",
   "execution_count": 10,
   "metadata": {},
   "outputs": [
    {
     "name": "stdout",
     "output_type": "stream",
     "text": [
      "0\n",
      "3\n",
      "1\n",
      "5\n",
      "6\n",
      "2\n",
      "5\n",
      "6\n",
      "4\n",
      "7\n"
     ]
    },
    {
     "data": {
      "text/plain": [
       "18"
      ]
     },
     "execution_count": 10,
     "metadata": {},
     "output_type": "execute_result"
    }
   ],
   "source": [
    "q = heapdict.heapdict()\n",
    "d = [10000000 for _ in range(8)]\n",
    "d[0] = 0\n",
    "q[0] = 0\n",
    "for i in range(1, 8) :\n",
    "    q[i] = 10000000\n",
    "    d[i] = 10000000\n",
    "tra = [-1 for _ in range(8)]\n",
    "while len(q):\n",
    "    u = q.popitem()[0]\n",
    "    print(u)\n",
    "    for iedge in adj_list[u] :\n",
    "        alt = d[u] + iedge[1]\n",
    "        if alt < d[iedge[0]] :\n",
    "            d[iedge[0]] = alt\n",
    "            tra[iedge[0]] = u\n",
    "            q[iedge[0]] = d[iedge[0]] + h[iedge[0]]\n",
    "d[7]   "
   ]
  },
  {
   "cell_type": "markdown",
   "metadata": {},
   "source": [
    "## MINIMAX ALGORITHM"
   ]
  },
  {
   "cell_type": "code",
   "execution_count": 1,
   "metadata": {},
   "outputs": [],
   "source": [
    "import numpy as np\n",
    "import math"
   ]
  },
  {
   "cell_type": "code",
   "execution_count": 2,
   "metadata": {},
   "outputs": [
    {
     "name": "stdout",
     "output_type": "stream",
     "text": [
      "0 1\n",
      "0 2\n",
      "0 3\n",
      "1 4\n",
      "1 5\n",
      "1 6\n",
      "2 7 \n",
      "2 8\n",
      "2 9\n",
      "3 10\n",
      "3 11\n",
      "3 12\n"
     ]
    },
    {
     "data": {
      "text/plain": [
       "[[1, 2, 3],\n",
       " [4, 5, 6],\n",
       " [7, 8, 9],\n",
       " [10, 11, 12],\n",
       " [],\n",
       " [],\n",
       " [],\n",
       " [],\n",
       " [],\n",
       " [],\n",
       " [],\n",
       " [],\n",
       " []]"
      ]
     },
     "execution_count": 2,
     "metadata": {},
     "output_type": "execute_result"
    }
   ],
   "source": [
    "adj_list = [[] for _ in range(13)]\n",
    "h = np.array([0,0,0,0,3,12,8,2,4,6,14,5,2])\n",
    "for i in range(12) :\n",
    "    u, v = map(int, input().split())\n",
    "    adj_list[u].append(v)\n",
    "adj_list"
   ]
  },
  {
   "cell_type": "code",
   "execution_count": 9,
   "metadata": {},
   "outputs": [
    {
     "name": "stdout",
     "output_type": "stream",
     "text": [
      "1   3\n",
      "2   2\n",
      "3   2\n",
      "0   3\n"
     ]
    },
    {
     "data": {
      "text/plain": [
       "3"
      ]
     },
     "execution_count": 9,
     "metadata": {},
     "output_type": "execute_result"
    }
   ],
   "source": [
    "def max_value(u) :\n",
    "    if len(adj_list[u]) == 0:\n",
    "        return h[u]\n",
    "    result = -1000000\n",
    "    for v in adj_list[u] :\n",
    "        result = max(result, min_value(v))\n",
    "    return result\n",
    "def min_value(u):\n",
    "    if len(adj_list[u]) == 0:\n",
    "        return h[u]\n",
    "    result = 1000000\n",
    "    for v in adj_list[u] :\n",
    "        result = min(result, max_value(v))\n",
    "    return result\n",
    "max_value(0)"
   ]
  },
  {
   "cell_type": "markdown",
   "metadata": {},
   "source": [
    "## ALPHA - BETA PRUNING"
   ]
  },
  {
   "cell_type": "code",
   "execution_count": null,
   "metadata": {},
   "outputs": [],
   "source": [
    "def max_value(u, w) :\n",
    "    if len(adj_list[u]) == 0:\n",
    "        return h[u]\n",
    "    result = -1000000\n",
    "    for v in adj_list[u] :\n",
    "        result = max(result, min_value(v))\n",
    "    return result"
   ]
  }
 ],
 "metadata": {
  "kernelspec": {
   "display_name": "Python 3",
   "language": "python",
   "name": "python3"
  },
  "language_info": {
   "codemirror_mode": {
    "name": "ipython",
    "version": 3
   },
   "file_extension": ".py",
   "mimetype": "text/x-python",
   "name": "python",
   "nbconvert_exporter": "python",
   "pygments_lexer": "ipython3",
   "version": "3.8.5"
  }
 },
 "nbformat": 4,
 "nbformat_minor": 4
}
